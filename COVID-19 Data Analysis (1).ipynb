{
 "cells": [
  {
   "cell_type": "code",
   "execution_count": 634,
   "metadata": {},
   "outputs": [],
   "source": [
    "import requests\n",
    "from bs4 import BeautifulSoup\n",
    "import pandas as pd\n",
    "import numpy as np\n",
    "import json"
   ]
  },
  {
   "cell_type": "markdown",
   "metadata": {},
   "source": [
    "# DATA SCRAPING"
   ]
  },
  {
   "cell_type": "code",
   "execution_count": null,
   "metadata": {},
   "outputs": [],
   "source": [
    "#Scraping World Data\n",
    "def world_data(url):\n",
    "    res = requests.get(url)\n",
    "    html_c = res.content\n",
    "    soup =BeautifulSoup(html_c,'html.parser')\n",
    "    data = soup.find_all(class_='maincounter-number')\n",
    "    for i in range(len(data)):\n",
    "        if(i==0):\n",
    "            total_cw = data[i].span.string\n",
    "            total_cw = int(total_cw.replace(',', ''))\n",
    "        elif(i==1):\n",
    "            total_dw = data[i].span.string\n",
    "            total_dw = int(total_dw.replace(',', ''))\n",
    "        else:\n",
    "            total_rw = data[i].span.string\n",
    "            total_rw = int(total_rw.replace(',', ''))\n",
    "        \n",
    "#To get countrywise updates:\n",
    "    countries = []\n",
    "    total = []\n",
    "    active = []\n",
    "    totalr = []\n",
    "    totald = []\n",
    "    serious = []\n",
    "    tcm = []\n",
    "    data = soup.find(\"table\", id = \"main_table_countries_today\")\n",
    "    table_data = data.tbody.find_all(\"tr\") \n",
    "    for i in range(8, len(table_data)):\n",
    "        c = table_data[i].find_all(\"td\")[1].string.strip()\n",
    "        countries.append(c)\n",
    "        num = table_data[i].find_all(\"td\")[2].string\n",
    "        total.append(num)\n",
    "        num = table_data[i].find_all(\"td\")[8].string\n",
    "        active.append(num)\n",
    "        num = table_data[i].find_all(\"td\")[6].string\n",
    "        totalr.append(num)\n",
    "        num = table_data[i].find_all(\"td\")[4].string\n",
    "        totald.append(num)\n",
    "        num = table_data[i].find_all(\"td\")[9].string        #Serious/Critical\n",
    "        serious.append(num)\n",
    "        num = table_data[i].find_all(\"td\")[10].string        #Total Cases Per Million\n",
    "        tcm.append(num)\n",
    "    \n",
    "    df = pd.DataFrame(list(zip(countries, total, active, totalr, totald, serious, tcm)), columns =['Countries', 'Total Cases','Active Cases', 'Total Recovered','Total Deceased','Serious','Cases Per Million']) \n",
    "    for i in range(len(df['Active Cases'])):\n",
    "        df['Active Cases'][i] = df['Active Cases'][i].replace(\",\",\"\")\n",
    "        df['Total Cases'][i] = df['Total Cases'][i].replace(\",\",\"\")\n",
    "        df['Total Deceased'][i] = df['Total Deceased'][i].replace(\",\",\"\")\n",
    "        try:\n",
    "            df['Total Recovered'][i] = df[\"Total Recovered\"][i].replace(\",\",\"\")\n",
    "        except:\n",
    "            pass\n",
    "        try:\n",
    "            df['Serious'][i] = df[\"Serious\"][i].replace(\",\",\"\")\n",
    "        except:\n",
    "            pass\n",
    "        try:\n",
    "            df['Cases Per Million'][i] = df[\"Cases Per Million\"][i].replace(\",\",\"\")\n",
    "        except:\n",
    "            pass\n",
    "\n",
    "    cols = ['Total Cases','Active Cases', 'Total Recovered','Total Deceased','Serious','Cases Per Million']\n",
    "    df[cols] = df[cols].apply(pd.to_numeric, errors='coerce', axis=1)\n",
    "    df = df.sort_values(by = ['Total Cases'], ascending=False)\n",
    "    df.index = np.arange(1,len(df)+1)\n",
    "    df.fillna(0, inplace = True)\n",
    "    \n",
    "    return df\n",
    "\n",
    "\n"
   ]
  },
  {
   "cell_type": "code",
   "execution_count": null,
   "metadata": {
    "scrolled": true
   },
   "outputs": [],
   "source": [
    "#Scraping Indian Data\n",
    "def india_data(url):\n",
    "    res = requests.get(url)\n",
    "    html_c = res.content\n",
    "    soup =BeautifulSoup(html_c,'lxml')\n",
    "    data = soup.find(\"table\", class_ = \"table table-striped\")\n",
    "    table_data = data.tbody.find_all(\"tr\") \n",
    "    states = []\n",
    "    totalindia = []\n",
    "    activeindia = []\n",
    "    totalri = []\n",
    "    totaldi = []\n",
    "    for i in range(0,37):\n",
    "        s = table_data[i].find_all(\"td\")[1].text.strip()     #State List\n",
    "        states.append(s)\n",
    "        num = table_data[i].find_all(\"td\")[2].text.strip()   #Active Cases in India\n",
    "        num = num.replace('\\n',\"\")\n",
    "        activeindia.append(num)\n",
    "        num = table_data[i].find_all(\"td\")[3].text.strip()   #Total Recovered Cases in India\n",
    "        num = num.replace('\\n',\"\")\n",
    "        totalri.append(num)\n",
    "        num = table_data[i].find_all(\"td\")[4].text.strip()   #Total Deceased in India\n",
    "        num = num.replace('\\n',\"\")\n",
    "        totaldi.append(num)\n",
    "        num = table_data[i].find_all(\"td\")[5].text.strip()   #Total Cases in India\n",
    "        num = int(num.replace('\\n',\"\"))\n",
    "        totalindia.append(num)\n",
    "\n",
    "    #Data Cleaning   \n",
    "    data_india = pd.DataFrame(list(zip(states, totalindia, activeindia, totalri, totaldi)), columns =['States', 'Total Cases','Active Cases', 'Total Recovered','Total Deceased'])\n",
    "    data_india = data_india.sort_values(by = ['Total Cases'], ascending=False)\n",
    "    cols = ['Total Cases','Active Cases', 'Total Recovered','Total Deceased']\n",
    "    data_india[cols] = data_india[cols].apply(pd.to_numeric, errors='coerce', axis=1, downcast='integer')\n",
    "    data_india.index = np.arange(1,len(data_india)+1)\n",
    "    data_india.fillna(0, inplace = True)\n",
    "    \n",
    "    return data_india\n"
   ]
  },
  {
   "cell_type": "code",
   "execution_count": 677,
   "metadata": {},
   "outputs": [],
   "source": [
    "#Time Series Indian Data\n",
    "def timeseriesindia(url):\n",
    "    res = requests.get(url)\n",
    "    data = res.json()\n",
    "    timeseries = []\n",
    "    totalconfirmed = []\n",
    "    dailyconfirmed = []\n",
    "    dailydeceased = []\n",
    "    dailyrecovered = []\n",
    "    totalrecovered = []\n",
    "    totaldeceased = []\n",
    "    for i in data['cases_time_series']:\n",
    "        timeseries.append(i['date'])\n",
    "        dailyconfirmed.append(i['dailyconfirmed'])\n",
    "        dailyrecovered.append(i['dailyrecovered'])\n",
    "        dailydeceased.append(i['dailydeceased'])\n",
    "        totalconfirmed.append(i['totalconfirmed'])\n",
    "        totalrecovered.append(i['totalrecovered'])\n",
    "        totaldeceased.append(i['totaldeceased'])\n",
    "    \n",
    "\n",
    "    datatimeseries = pd.DataFrame(list(zip(timeseries, dailyconfirmed, dailyrecovered, dailydeceased, totalconfirmed, totalrecovered, totaldeceased)), \n",
    "                              columns =['Date', 'Daily Cases','Daily Recovered', 'Daily Deceased','Total Confirmed','Total Recovered','Total Deceased'])    \n",
    "    \n",
    "    return datatimeseries\n",
    "    "
   ]
  },
  {
   "cell_type": "code",
   "execution_count": 678,
   "metadata": {},
   "outputs": [],
   "source": [
    "dw = world_data(\"https://www.worldometers.info/coronavirus/\")\n",
    "di = india_data(\"https://www.mohfw.gov.in/\")\n",
    "dts = timeseriesindia('https://api.covid19india.org/data.json')"
   ]
  },
  {
   "cell_type": "markdown",
   "metadata": {},
   "source": [
    "# DATA VISUALISATION"
   ]
  },
  {
   "cell_type": "code",
   "execution_count": null,
   "metadata": {},
   "outputs": [],
   "source": []
  },
  {
   "cell_type": "code",
   "execution_count": null,
   "metadata": {},
   "outputs": [],
   "source": []
  },
  {
   "cell_type": "code",
   "execution_count": null,
   "metadata": {},
   "outputs": [],
   "source": []
  },
  {
   "cell_type": "code",
   "execution_count": null,
   "metadata": {},
   "outputs": [],
   "source": []
  }
 ],
 "metadata": {
  "kernelspec": {
   "display_name": "Python 3",
   "language": "python",
   "name": "python3"
  },
  "language_info": {
   "codemirror_mode": {
    "name": "ipython",
    "version": 3
   },
   "file_extension": ".py",
   "mimetype": "text/x-python",
   "name": "python",
   "nbconvert_exporter": "python",
   "pygments_lexer": "ipython3",
   "version": "3.5.6"
  }
 },
 "nbformat": 4,
 "nbformat_minor": 2
}
